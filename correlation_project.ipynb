{
 "cells": [
  {
   "cell_type": "code",
   "execution_count": 1,
   "id": "eea1bca0",
   "metadata": {},
   "outputs": [],
   "source": [
    "import pandas as pd\n",
    "import seaborn as sb\n",
    "import numpy as np\n",
    "\n",
    "import matplotlib\n",
    "import matplotlib.pyplot as plt\n",
    "from matplotlib.pyplot import figure"
   ]
  },
  {
   "cell_type": "markdown",
   "id": "09847c3e",
   "metadata": {},
   "source": [
    "# Data Cleaning"
   ]
  },
  {
   "cell_type": "code",
   "execution_count": 2,
   "id": "752abdfb",
   "metadata": {},
   "outputs": [
    {
     "name": "stdout",
     "output_type": "stream",
     "text": [
      "<class 'pandas.core.frame.DataFrame'>\n",
      "RangeIndex: 7668 entries, 0 to 7667\n",
      "Data columns (total 15 columns):\n",
      " #   Column    Non-Null Count  Dtype  \n",
      "---  ------    --------------  -----  \n",
      " 0   name      7668 non-null   object \n",
      " 1   rating    7591 non-null   object \n",
      " 2   genre     7668 non-null   object \n",
      " 3   year      7668 non-null   int64  \n",
      " 4   released  7666 non-null   object \n",
      " 5   score     7665 non-null   float64\n",
      " 6   votes     7665 non-null   float64\n",
      " 7   director  7668 non-null   object \n",
      " 8   writer    7665 non-null   object \n",
      " 9   star      7667 non-null   object \n",
      " 10  country   7665 non-null   object \n",
      " 11  budget    5497 non-null   float64\n",
      " 12  gross     7479 non-null   float64\n",
      " 13  company   7651 non-null   object \n",
      " 14  runtime   7664 non-null   float64\n",
      "dtypes: float64(5), int64(1), object(9)\n",
      "memory usage: 898.7+ KB\n"
     ]
    }
   ],
   "source": [
    "data=pd.read_csv('movies.csv')\n",
    "data.info()"
   ]
  },
  {
   "cell_type": "code",
   "execution_count": 3,
   "id": "a332f56a",
   "metadata": {},
   "outputs": [
    {
     "name": "stdout",
     "output_type": "stream",
     "text": [
      "name - 0.0%\n",
      "rating - 0.010041731872717789%\n",
      "genre - 0.0%\n",
      "year - 0.0%\n",
      "released - 0.0002608242044861763%\n",
      "score - 0.0003912363067292645%\n",
      "votes - 0.0003912363067292645%\n",
      "director - 0.0%\n",
      "writer - 0.0003912363067292645%\n",
      "star - 0.00013041210224308815%\n",
      "country - 0.0003912363067292645%\n",
      "budget - 0.2831246739697444%\n",
      "gross - 0.02464788732394366%\n",
      "company - 0.002217005738132499%\n",
      "runtime - 0.0005216484089723526%\n"
     ]
    }
   ],
   "source": [
    "# percentage fo null values in each column\n",
    "\n",
    "for col in data.columns:\n",
    "    missing_percentage=np.mean(data[col].isnull())\n",
    "    print('{} - {}%'.format(col,missing_percentage))"
   ]
  },
  {
   "cell_type": "code",
   "execution_count": 4,
   "id": "ccf12acd",
   "metadata": {},
   "outputs": [
    {
     "name": "stdout",
     "output_type": "stream",
     "text": [
      "name           0\n",
      "rating        77\n",
      "genre          0\n",
      "year           0\n",
      "released       2\n",
      "score          3\n",
      "votes          3\n",
      "director       0\n",
      "writer         3\n",
      "star           1\n",
      "country        3\n",
      "budget      2171\n",
      "gross        189\n",
      "company       17\n",
      "runtime        4\n",
      "dtype: int64\n"
     ]
    }
   ],
   "source": [
    "# or find number of null values like this\n",
    "\n",
    "nulls_count=data.isnull().sum()\n",
    "print(nulls_count)"
   ]
  },
  {
   "cell_type": "markdown",
   "id": "0d9fa0fa",
   "metadata": {},
   "source": []
  },
  {
   "cell_type": "code",
   "execution_count": 5,
   "id": "d6bef69a",
   "metadata": {},
   "outputs": [
    {
     "name": "stdout",
     "output_type": "stream",
     "text": [
      "<class 'pandas.core.frame.DataFrame'>\n",
      "RangeIndex: 7668 entries, 0 to 7667\n",
      "Data columns (total 15 columns):\n",
      " #   Column    Non-Null Count  Dtype  \n",
      "---  ------    --------------  -----  \n",
      " 0   name      7668 non-null   object \n",
      " 1   rating    7591 non-null   object \n",
      " 2   genre     7668 non-null   object \n",
      " 3   year      7668 non-null   int64  \n",
      " 4   released  7666 non-null   object \n",
      " 5   score     7665 non-null   float64\n",
      " 6   votes     7665 non-null   float64\n",
      " 7   director  7668 non-null   object \n",
      " 8   writer    7665 non-null   object \n",
      " 9   star      7667 non-null   object \n",
      " 10  country   7665 non-null   object \n",
      " 11  budget    5497 non-null   float64\n",
      " 12  gross     7479 non-null   float64\n",
      " 13  company   7651 non-null   object \n",
      " 14  runtime   7664 non-null   float64\n",
      "dtypes: float64(5), int64(1), object(9)\n",
      "memory usage: 898.7+ KB\n"
     ]
    }
   ],
   "source": [
    "data.info()"
   ]
  },
  {
   "cell_type": "code",
   "execution_count": 6,
   "id": "dced0170",
   "metadata": {},
   "outputs": [],
   "source": [
    "# fill the NA values with appropriate values\n",
    "\n",
    "# for numeric values, use mode\n",
    "for col in ['rating','score','votes','country','budget','gross','runtime']:\n",
    "    data[col]=data[col].fillna(data[col].mode()[0])\n",
    "\n",
    "# for object data type, use 'Unknown' \n",
    "for col in ['released','company','star','writer']:\n",
    "    data[col]=data[col].fillna('Unknown')"
   ]
  },
  {
   "cell_type": "code",
   "execution_count": 7,
   "id": "8848793b",
   "metadata": {},
   "outputs": [],
   "source": [
    "for column in ['votes','budget','gross','runtime']:\n",
    "    data[column]=data[column].astype('int64')"
   ]
  },
  {
   "cell_type": "code",
   "execution_count": 8,
   "id": "32fd1921",
   "metadata": {},
   "outputs": [
    {
     "data": {
      "application/vnd.microsoft.datawrangler.viewer.v0+json": {
       "columns": [
        {
         "name": "index",
         "rawType": "int64",
         "type": "integer"
        },
        {
         "name": "name",
         "rawType": "object",
         "type": "string"
        },
        {
         "name": "rating",
         "rawType": "object",
         "type": "string"
        },
        {
         "name": "genre",
         "rawType": "object",
         "type": "string"
        },
        {
         "name": "year",
         "rawType": "int64",
         "type": "integer"
        },
        {
         "name": "released",
         "rawType": "object",
         "type": "string"
        },
        {
         "name": "score",
         "rawType": "float64",
         "type": "float"
        },
        {
         "name": "votes",
         "rawType": "int64",
         "type": "integer"
        },
        {
         "name": "director",
         "rawType": "object",
         "type": "string"
        },
        {
         "name": "writer",
         "rawType": "object",
         "type": "string"
        },
        {
         "name": "star",
         "rawType": "object",
         "type": "string"
        },
        {
         "name": "country",
         "rawType": "object",
         "type": "string"
        },
        {
         "name": "budget",
         "rawType": "int64",
         "type": "integer"
        },
        {
         "name": "gross",
         "rawType": "int64",
         "type": "integer"
        },
        {
         "name": "company",
         "rawType": "object",
         "type": "string"
        },
        {
         "name": "runtime",
         "rawType": "int64",
         "type": "integer"
        }
       ],
       "ref": "df49435c-d2f9-46d6-91a3-04cd7a203a9d",
       "rows": [
        [
         "5445",
         "Avatar",
         "PG-13",
         "Action",
         "2009",
         "December 18, 2009 (United States)",
         "7.8",
         "1100000",
         "James Cameron",
         "James Cameron",
         "Sam Worthington",
         "United States",
         "237000000",
         "2847246203",
         "Twentieth Century Fox",
         "162"
        ],
        [
         "7445",
         "Avengers: Endgame",
         "PG-13",
         "Action",
         "2019",
         "April 26, 2019 (United States)",
         "8.4",
         "903000",
         "Anthony Russo",
         "Christopher Markus",
         "Robert Downey Jr.",
         "United States",
         "356000000",
         "2797501328",
         "Marvel Studios",
         "181"
        ],
        [
         "3045",
         "Titanic",
         "PG-13",
         "Drama",
         "1997",
         "December 19, 1997 (United States)",
         "7.8",
         "1100000",
         "James Cameron",
         "James Cameron",
         "Leonardo DiCaprio",
         "United States",
         "200000000",
         "2201647264",
         "Twentieth Century Fox",
         "194"
        ],
        [
         "6663",
         "Star Wars: Episode VII - The Force Awakens",
         "PG-13",
         "Action",
         "2015",
         "December 18, 2015 (United States)",
         "7.8",
         "876000",
         "J.J. Abrams",
         "Lawrence Kasdan",
         "Daisy Ridley",
         "United States",
         "245000000",
         "2069521700",
         "Lucasfilm",
         "138"
        ],
        [
         "7244",
         "Avengers: Infinity War",
         "PG-13",
         "Action",
         "2018",
         "April 27, 2018 (United States)",
         "8.4",
         "897000",
         "Anthony Russo",
         "Christopher Markus",
         "Robert Downey Jr.",
         "United States",
         "321000000",
         "2048359754",
         "Marvel Studios",
         "149"
        ],
        [
         "7480",
         "The Lion King",
         "PG",
         "Animation",
         "2019",
         "July 19, 2019 (United States)",
         "6.9",
         "222000",
         "Jon Favreau",
         "Jeff Nathanson",
         "Donald Glover",
         "United States",
         "260000000",
         "1670727580",
         "Walt Disney Pictures",
         "118"
        ],
        [
         "6653",
         "Jurassic World",
         "PG-13",
         "Action",
         "2015",
         "June 12, 2015 (United States)",
         "7.0",
         "593000",
         "Colin Trevorrow",
         "Rick Jaffa",
         "Chris Pratt",
         "United States",
         "150000000",
         "1670516444",
         "Universal Pictures",
         "124"
        ],
        [
         "6043",
         "The Avengers",
         "PG-13",
         "Action",
         "2012",
         "May 4, 2012 (United States)",
         "8.0",
         "1300000",
         "Joss Whedon",
         "Joss Whedon",
         "Robert Downey Jr.",
         "United States",
         "220000000",
         "1518815515",
         "Marvel Studios",
         "143"
        ],
        [
         "6646",
         "Furious 7",
         "PG-13",
         "Action",
         "2015",
         "April 3, 2015 (United States)",
         "7.1",
         "370000",
         "James Wan",
         "Chris Morgan",
         "Vin Diesel",
         "United States",
         "190000000",
         "1515341399",
         "Universal Pictures",
         "137"
        ],
        [
         "7494",
         "Frozen II",
         "PG",
         "Animation",
         "2019",
         "November 22, 2019 (United States)",
         "6.8",
         "148000",
         "Chris Buck",
         "Jennifer Lee",
         "Kristen Bell",
         "United States",
         "150000000",
         "1450026933",
         "Walt Disney Animation Studios",
         "103"
        ],
        [
         "6644",
         "Avengers: Age of Ultron",
         "PG-13",
         "Action",
         "2015",
         "May 1, 2015 (United States)",
         "7.3",
         "777000",
         "Joss Whedon",
         "Joss Whedon",
         "Robert Downey Jr.",
         "United States",
         "250000000",
         "1402809540",
         "Marvel Studios",
         "141"
        ],
        [
         "7247",
         "Black Panther",
         "PG-13",
         "Action",
         "2018",
         "February 16, 2018 (United States)",
         "7.3",
         "661000",
         "Ryan Coogler",
         "Ryan Coogler",
         "Chadwick Boseman",
         "United States",
         "200000000",
         "1347597973",
         "Marvel Studios",
         "134"
        ],
        [
         "5845",
         "Harry Potter and the Deathly Hallows: Part 2",
         "PG-13",
         "Adventure",
         "2011",
         "July 15, 2011 (United States)",
         "8.1",
         "790000",
         "David Yates",
         "Steve Kloves",
         "Daniel Radcliffe",
         "United Kingdom",
         "125000000",
         "1342321665",
         "Warner Bros.",
         "130"
        ],
        [
         "7075",
         "Star Wars: Episode VIII - The Last Jedi",
         "PG-13",
         "Action",
         "2017",
         "December 15, 2017 (United States)",
         "7.0",
         "581000",
         "Rian Johnson",
         "Rian Johnson",
         "Daisy Ridley",
         "United States",
         "317000000",
         "1332698830",
         "Walt Disney Pictures",
         "152"
        ],
        [
         "7271",
         "Jurassic World: Fallen Kingdom",
         "PG-13",
         "Action",
         "2018",
         "June 22, 2018 (United States)",
         "6.2",
         "277000",
         "J.A. Bayona",
         "Derek Connolly",
         "Chris Pratt",
         "United States",
         "170000000",
         "1310466296",
         "Universal Pictures",
         "128"
        ],
        [
         "6262",
         "Frozen",
         "PG",
         "Animation",
         "2013",
         "November 27, 2013 (United States)",
         "7.4",
         "585000",
         "Chris Buck",
         "Jennifer Lee",
         "Kristen Bell",
         "United States",
         "150000000",
         "1281508100",
         "Walt Disney Animation Studios",
         "102"
        ],
        [
         "7072",
         "Beauty and the Beast",
         "PG",
         "Family",
         "2017",
         "March 17, 2017 (United States)",
         "7.1",
         "283000",
         "Bill Condon",
         "Stephen Chbosky",
         "Emma Watson",
         "United States",
         "160000000",
         "1264434525",
         "Mandeville Films",
         "129"
        ],
        [
         "7281",
         "Incredibles 2",
         "PG",
         "Animation",
         "2018",
         "June 15, 2018 (United States)",
         "7.6",
         "263000",
         "Brad Bird",
         "Brad Bird",
         "Craig T. Nelson",
         "United States",
         "200000000",
         "1244639527",
         "Walt Disney Pictures",
         "118"
        ],
        [
         "7055",
         "The Fate of the Furious",
         "PG-13",
         "Action",
         "2017",
         "April 14, 2017 (United States)",
         "6.6",
         "214000",
         "F. Gary Gray",
         "Gary Scott Thompson",
         "Vin Diesel",
         "China",
         "250000000",
         "1236005118",
         "Universal Pictures",
         "136"
        ],
        [
         "6244",
         "Iron Man 3",
         "PG-13",
         "Action",
         "2013",
         "May 3, 2013 (United States)",
         "7.1",
         "779000",
         "Shane Black",
         "Drew Pearce",
         "Robert Downey Jr.",
         "United States",
         "200000000",
         "1214811252",
         "Marvel Studios",
         "130"
        ],
        [
         "6688",
         "Minions",
         "PG",
         "Animation",
         "2015",
         "July 10, 2015 (United States)",
         "6.4",
         "218000",
         "Kyle Balda",
         "Brian Lynch",
         "Sandra Bullock",
         "United States",
         "74000000",
         "1159444662",
         "Illumination Entertainment",
         "91"
        ],
        [
         "6846",
         "Captain America: Civil War",
         "PG-13",
         "Action",
         "2016",
         "May 6, 2016 (United States)",
         "7.8",
         "694000",
         "Anthony Russo",
         "Christopher Markus",
         "Chris Evans",
         "United States",
         "250000000",
         "1153337496",
         "Marvel Studios",
         "147"
        ],
        [
         "7250",
         "Aquaman",
         "PG-13",
         "Action",
         "2018",
         "December 21, 2018 (United States)",
         "6.9",
         "404000",
         "James Wan",
         "David Leslie Johnson-McGoldrick",
         "Jason Momoa",
         "United States",
         "160000000",
         "1148485886",
         "Warner Bros.",
         "143"
        ],
        [
         "4245",
         "The Lord of the Rings: The Return of the King",
         "PG-13",
         "Action",
         "2003",
         "December 17, 2003 (United States)",
         "8.9",
         "1700000",
         "Peter Jackson",
         "J.R.R. Tolkien",
         "Elijah Wood",
         "New Zealand",
         "94000000",
         "1146030912",
         "New Line Cinema",
         "201"
        ],
        [
         "7458",
         "Spider-Man: Far from Home",
         "PG-13",
         "Action",
         "2019",
         "July 2, 2019 (United States)",
         "7.5",
         "359000",
         "Jon Watts",
         "Chris McKenna",
         "Tom Holland",
         "United States",
         "160000000",
         "1131927996",
         "Columbia Pictures",
         "129"
        ],
        [
         "7456",
         "Captain Marvel",
         "PG-13",
         "Action",
         "2019",
         "March 8, 2019 (United States)",
         "6.8",
         "478000",
         "Anna Boden",
         "Anna Boden",
         "Brie Larson",
         "United States",
         "160000000",
         "1128462972",
         "Walt Disney Pictures",
         "123"
        ],
        [
         "5878",
         "Transformers: Dark of the Moon",
         "PG-13",
         "Action",
         "2011",
         "June 29, 2011 (United States)",
         "6.2",
         "390000",
         "Michael Bay",
         "Ehren Kruger",
         "Shia LaBeouf",
         "United States",
         "195000000",
         "1123794079",
         "Paramount Pictures",
         "154"
        ],
        [
         "6059",
         "Skyfall",
         "PG-13",
         "Action",
         "2012",
         "November 9, 2012 (United States)",
         "7.7",
         "642000",
         "Sam Mendes",
         "Neal Purvis",
         "Daniel Craig",
         "United Kingdom",
         "200000000",
         "1108569499",
         "Metro-Goldwyn-Mayer (MGM)",
         "143"
        ],
        [
         "6494",
         "Transformers: Age of Extinction",
         "PG-13",
         "Action",
         "2014",
         "June 27, 2014 (United States)",
         "5.6",
         "302000",
         "Michael Bay",
         "Ehren Kruger",
         "Mark Wahlberg",
         "United States",
         "210000000",
         "1104054072",
         "Paramount Pictures",
         "165"
        ],
        [
         "2448",
         "The Lion King",
         "G",
         "Animation",
         "1994",
         "June 24, 1994 (United States)",
         "8.5",
         "970000",
         "Roger Allers",
         "Irene Mecchi",
         "Matthew Broderick",
         "United States",
         "45000000",
         "1083720877",
         "Walt Disney Pictures",
         "88"
        ],
        [
         "6047",
         "The Dark Knight Rises",
         "PG-13",
         "Action",
         "2012",
         "July 20, 2012 (United States)",
         "8.4",
         "1600000",
         "Christopher Nolan",
         "Jonathan Nolan",
         "Christian Bale",
         "United Kingdom",
         "250000000",
         "1081142612",
         "Warner Bros.",
         "164"
        ],
        [
         "7463",
         "Star Wars: Episode IX - The Rise of Skywalker",
         "PG-13",
         "Action",
         "2019",
         "December 20, 2019 (United States)",
         "6.5",
         "394000",
         "J.J. Abrams",
         "Chris Terrio",
         "Daisy Ridley",
         "United States",
         "275000000",
         "1078232589",
         "Walt Disney Pictures",
         "141"
        ],
        [
         "7450",
         "Joker",
         "R",
         "Crime",
         "2019",
         "October 4, 2019 (United States)",
         "8.4",
         "1000000",
         "Todd Phillips",
         "Todd Phillips",
         "Joaquin Phoenix",
         "United States",
         "55000000",
         "1074427370",
         "Warner Bros.",
         "122"
        ],
        [
         "7488",
         "Toy Story 4",
         "G",
         "Animation",
         "2019",
         "June 21, 2019 (United States)",
         "7.7",
         "217000",
         "Josh Cooley",
         "John Lasseter",
         "Tom Hanks",
         "United States",
         "200000000",
         "1073394593",
         "Pixar Animation Studios",
         "100"
        ],
        [
         "5685",
         "Toy Story 3",
         "G",
         "Animation",
         "2010",
         "June 18, 2010 (United States)",
         "8.2",
         "776000",
         "Lee Unkrich",
         "John Lasseter",
         "Tom Hanks",
         "United States",
         "200000000",
         "1066970811",
         "Walt Disney Pictures",
         "103"
        ],
        [
         "4852",
         "Pirates of the Caribbean: Dead Man's Chest",
         "PG-13",
         "Action",
         "2006",
         "July 7, 2006 (United States)",
         "7.3",
         "668000",
         "Gore Verbinski",
         "Ted Elliott",
         "Johnny Depp",
         "United States",
         "225000000",
         "1066179747",
         "Walt Disney Pictures",
         "151"
        ],
        [
         "6869",
         "Rogue One: A Star Wars Story",
         "PG-13",
         "Action",
         "2016",
         "December 16, 2016 (United States)",
         "7.8",
         "572000",
         "Gareth Edwards",
         "Chris Weitz",
         "Felicity Jones",
         "United States",
         "200000000",
         "1056057720",
         "Lucasfilm",
         "133"
        ],
        [
         "7481",
         "Aladdin",
         "PG",
         "Adventure",
         "2019",
         "May 24, 2019 (United States)",
         "6.9",
         "239000",
         "Guy Ritchie",
         "John August",
         "Will Smith",
         "United Kingdom",
         "183000000",
         "1050693953",
         "Walt Disney Pictures",
         "128"
        ],
        [
         "5860",
         "Pirates of the Caribbean: on Stranger Tides",
         "PG-13",
         "Action",
         "2011",
         "May 20, 2011 (United States)",
         "6.6",
         "492000",
         "Rob Marshall",
         "Ted Elliott",
         "Johnny Depp",
         "United States",
         "250000000",
         "1045713802",
         "Walt Disney Pictures",
         "136"
        ],
        [
         "7140",
         "Despicable Me 3",
         "PG",
         "Animation",
         "2017",
         "June 30, 2017 (United States)",
         "6.3",
         "119000",
         "Kyle Balda",
         "Cinco Paul",
         "Steve Carell",
         "United States",
         "80000000",
         "1034800131",
         "Illumination Entertainment",
         "89"
        ],
        [
         "2245",
         "Jurassic Park",
         "PG-13",
         "Action",
         "1993",
         "June 11, 1993 (United States)",
         "8.1",
         "894000",
         "Steven Spielberg",
         "Michael Crichton",
         "Sam Neill",
         "United States",
         "63000000",
         "1033928303",
         "Universal Pictures",
         "127"
        ],
        [
         "6908",
         "Finding Dory",
         "PG",
         "Animation",
         "2016",
         "June 17, 2016 (United States)",
         "7.3",
         "250000",
         "Andrew Stanton",
         "Andrew Stanton",
         "Ellen DeGeneres",
         "United States",
         "200000000",
         "1028570942",
         "Pixar Animation Studios",
         "97"
        ],
        [
         "3451",
         "Star Wars: Episode I - The Phantom Menace",
         "PG",
         "Action",
         "1999",
         "May 19, 1999 (United States)",
         "6.5",
         "748000",
         "George Lucas",
         "George Lucas",
         "Ewan McGregor",
         "United States",
         "115000000",
         "1027082707",
         "Lucasfilm",
         "136"
        ],
        [
         "5667",
         "Alice in Wonderland",
         "PG",
         "Adventure",
         "2010",
         "March 5, 2010 (United States)",
         "6.4",
         "392000",
         "Tim Burton",
         "Linda Woolverton",
         "Mia Wasikowska",
         "United States",
         "200000000",
         "1025468216",
         "Walt Disney Pictures",
         "108"
        ],
        [
         "6863",
         "Zootopia",
         "PG",
         "Animation",
         "2016",
         "March 4, 2016 (United States)",
         "8.0",
         "450000",
         "Byron Howard",
         "Byron Howard",
         "Ginnifer Goodwin",
         "United States",
         "150000000",
         "1024121104",
         "Walt Disney Pictures",
         "108"
        ],
        [
         "6045",
         "The Hobbit: An Unexpected Journey",
         "PG-13",
         "Adventure",
         "2012",
         "December 14, 2012 (United States)",
         "7.8",
         "773000",
         "Peter Jackson",
         "Fran Walsh",
         "Martin Freeman",
         "New Zealand",
         "180000000",
         "1017003568",
         "Metro-Goldwyn-Mayer (MGM)",
         "169"
        ],
        [
         "3843",
         "Harry Potter and the Sorcerer's Stone",
         "PG",
         "Adventure",
         "2001",
         "November 16, 2001 (United States)",
         "7.6",
         "685000",
         "Chris Columbus",
         "J.K. Rowling",
         "Daniel Radcliffe",
         "United Kingdom",
         "125000000",
         "1006968171",
         "Warner Bros.",
         "152"
        ],
        [
         "5243",
         "The Dark Knight",
         "PG-13",
         "Action",
         "2008",
         "July 18, 2008 (United States)",
         "9.0",
         "2400000",
         "Christopher Nolan",
         "Jonathan Nolan",
         "Christian Bale",
         "United States",
         "185000000",
         "1005973645",
         "Warner Bros.",
         "152"
        ],
        [
         "5652",
         "Harry Potter and the Deathly Hallows: Part 1",
         "PG-13",
         "Adventure",
         "2010",
         "November 19, 2010 (United States)",
         "7.7",
         "495000",
         "David Yates",
         "Steve Kloves",
         "Daniel Radcliffe",
         "United Kingdom",
         "20000000",
         "977043483",
         "Warner Bros.",
         "146"
        ],
        [
         "6311",
         "Despicable Me 2",
         "PG",
         "Animation",
         "2013",
         "July 3, 2013 (United States)",
         "7.3",
         "377000",
         "Pierre Coffin",
         "Cinco Paul",
         "Steve Carell",
         "United States",
         "76000000",
         "970766005",
         "Universal Pictures",
         "98"
        ]
       ],
       "shape": {
        "columns": 15,
        "rows": 7668
       }
      },
      "text/html": [
       "<div>\n",
       "<style scoped>\n",
       "    .dataframe tbody tr th:only-of-type {\n",
       "        vertical-align: middle;\n",
       "    }\n",
       "\n",
       "    .dataframe tbody tr th {\n",
       "        vertical-align: top;\n",
       "    }\n",
       "\n",
       "    .dataframe thead th {\n",
       "        text-align: right;\n",
       "    }\n",
       "</style>\n",
       "<table border=\"1\" class=\"dataframe\">\n",
       "  <thead>\n",
       "    <tr style=\"text-align: right;\">\n",
       "      <th></th>\n",
       "      <th>name</th>\n",
       "      <th>rating</th>\n",
       "      <th>genre</th>\n",
       "      <th>year</th>\n",
       "      <th>released</th>\n",
       "      <th>score</th>\n",
       "      <th>votes</th>\n",
       "      <th>director</th>\n",
       "      <th>writer</th>\n",
       "      <th>star</th>\n",
       "      <th>country</th>\n",
       "      <th>budget</th>\n",
       "      <th>gross</th>\n",
       "      <th>company</th>\n",
       "      <th>runtime</th>\n",
       "    </tr>\n",
       "  </thead>\n",
       "  <tbody>\n",
       "    <tr>\n",
       "      <th>5445</th>\n",
       "      <td>Avatar</td>\n",
       "      <td>PG-13</td>\n",
       "      <td>Action</td>\n",
       "      <td>2009</td>\n",
       "      <td>December 18, 2009 (United States)</td>\n",
       "      <td>7.8</td>\n",
       "      <td>1100000</td>\n",
       "      <td>James Cameron</td>\n",
       "      <td>James Cameron</td>\n",
       "      <td>Sam Worthington</td>\n",
       "      <td>United States</td>\n",
       "      <td>237000000</td>\n",
       "      <td>2847246203</td>\n",
       "      <td>Twentieth Century Fox</td>\n",
       "      <td>162</td>\n",
       "    </tr>\n",
       "    <tr>\n",
       "      <th>7445</th>\n",
       "      <td>Avengers: Endgame</td>\n",
       "      <td>PG-13</td>\n",
       "      <td>Action</td>\n",
       "      <td>2019</td>\n",
       "      <td>April 26, 2019 (United States)</td>\n",
       "      <td>8.4</td>\n",
       "      <td>903000</td>\n",
       "      <td>Anthony Russo</td>\n",
       "      <td>Christopher Markus</td>\n",
       "      <td>Robert Downey Jr.</td>\n",
       "      <td>United States</td>\n",
       "      <td>356000000</td>\n",
       "      <td>2797501328</td>\n",
       "      <td>Marvel Studios</td>\n",
       "      <td>181</td>\n",
       "    </tr>\n",
       "    <tr>\n",
       "      <th>3045</th>\n",
       "      <td>Titanic</td>\n",
       "      <td>PG-13</td>\n",
       "      <td>Drama</td>\n",
       "      <td>1997</td>\n",
       "      <td>December 19, 1997 (United States)</td>\n",
       "      <td>7.8</td>\n",
       "      <td>1100000</td>\n",
       "      <td>James Cameron</td>\n",
       "      <td>James Cameron</td>\n",
       "      <td>Leonardo DiCaprio</td>\n",
       "      <td>United States</td>\n",
       "      <td>200000000</td>\n",
       "      <td>2201647264</td>\n",
       "      <td>Twentieth Century Fox</td>\n",
       "      <td>194</td>\n",
       "    </tr>\n",
       "    <tr>\n",
       "      <th>6663</th>\n",
       "      <td>Star Wars: Episode VII - The Force Awakens</td>\n",
       "      <td>PG-13</td>\n",
       "      <td>Action</td>\n",
       "      <td>2015</td>\n",
       "      <td>December 18, 2015 (United States)</td>\n",
       "      <td>7.8</td>\n",
       "      <td>876000</td>\n",
       "      <td>J.J. Abrams</td>\n",
       "      <td>Lawrence Kasdan</td>\n",
       "      <td>Daisy Ridley</td>\n",
       "      <td>United States</td>\n",
       "      <td>245000000</td>\n",
       "      <td>2069521700</td>\n",
       "      <td>Lucasfilm</td>\n",
       "      <td>138</td>\n",
       "    </tr>\n",
       "    <tr>\n",
       "      <th>7244</th>\n",
       "      <td>Avengers: Infinity War</td>\n",
       "      <td>PG-13</td>\n",
       "      <td>Action</td>\n",
       "      <td>2018</td>\n",
       "      <td>April 27, 2018 (United States)</td>\n",
       "      <td>8.4</td>\n",
       "      <td>897000</td>\n",
       "      <td>Anthony Russo</td>\n",
       "      <td>Christopher Markus</td>\n",
       "      <td>Robert Downey Jr.</td>\n",
       "      <td>United States</td>\n",
       "      <td>321000000</td>\n",
       "      <td>2048359754</td>\n",
       "      <td>Marvel Studios</td>\n",
       "      <td>149</td>\n",
       "    </tr>\n",
       "    <tr>\n",
       "      <th>...</th>\n",
       "      <td>...</td>\n",
       "      <td>...</td>\n",
       "      <td>...</td>\n",
       "      <td>...</td>\n",
       "      <td>...</td>\n",
       "      <td>...</td>\n",
       "      <td>...</td>\n",
       "      <td>...</td>\n",
       "      <td>...</td>\n",
       "      <td>...</td>\n",
       "      <td>...</td>\n",
       "      <td>...</td>\n",
       "      <td>...</td>\n",
       "      <td>...</td>\n",
       "      <td>...</td>\n",
       "    </tr>\n",
       "    <tr>\n",
       "      <th>3818</th>\n",
       "      <td>Love, Honor and Obey</td>\n",
       "      <td>R</td>\n",
       "      <td>Comedy</td>\n",
       "      <td>2000</td>\n",
       "      <td>February 9, 2001 (United States)</td>\n",
       "      <td>6.5</td>\n",
       "      <td>5200</td>\n",
       "      <td>Dominic Anciano</td>\n",
       "      <td>Dominic Anciano</td>\n",
       "      <td>Sadie Frost</td>\n",
       "      <td>United Kingdom</td>\n",
       "      <td>20000000</td>\n",
       "      <td>1400</td>\n",
       "      <td>British Broadcasting Corporation (BBC)</td>\n",
       "      <td>103</td>\n",
       "    </tr>\n",
       "    <tr>\n",
       "      <th>7625</th>\n",
       "      <td>The Untold Story</td>\n",
       "      <td>R</td>\n",
       "      <td>Comedy</td>\n",
       "      <td>2019</td>\n",
       "      <td>January 11, 2019 (United States)</td>\n",
       "      <td>5.7</td>\n",
       "      <td>320</td>\n",
       "      <td>Shane Stanley</td>\n",
       "      <td>Lee Stanley</td>\n",
       "      <td>Miko Hughes</td>\n",
       "      <td>United States</td>\n",
       "      <td>20000000</td>\n",
       "      <td>790</td>\n",
       "      <td>Visual Arts Entertainment</td>\n",
       "      <td>104</td>\n",
       "    </tr>\n",
       "    <tr>\n",
       "      <th>7580</th>\n",
       "      <td>Run with the Hunted</td>\n",
       "      <td>Not Rated</td>\n",
       "      <td>Crime</td>\n",
       "      <td>2019</td>\n",
       "      <td>June 26, 2020 (United States)</td>\n",
       "      <td>5.2</td>\n",
       "      <td>735</td>\n",
       "      <td>John Swab</td>\n",
       "      <td>John Swab</td>\n",
       "      <td>Ron Perlman</td>\n",
       "      <td>United States</td>\n",
       "      <td>20000000</td>\n",
       "      <td>682</td>\n",
       "      <td>Roxwell Films</td>\n",
       "      <td>93</td>\n",
       "    </tr>\n",
       "    <tr>\n",
       "      <th>2417</th>\n",
       "      <td>Madadayo</td>\n",
       "      <td>R</td>\n",
       "      <td>Drama</td>\n",
       "      <td>1993</td>\n",
       "      <td>April 17, 1993 (Japan)</td>\n",
       "      <td>7.3</td>\n",
       "      <td>5100</td>\n",
       "      <td>Akira Kurosawa</td>\n",
       "      <td>Ishirô Honda</td>\n",
       "      <td>Tatsuo Matsumura</td>\n",
       "      <td>Japan</td>\n",
       "      <td>11900000</td>\n",
       "      <td>596</td>\n",
       "      <td>DENTSU Music And Entertainment</td>\n",
       "      <td>134</td>\n",
       "    </tr>\n",
       "    <tr>\n",
       "      <th>3203</th>\n",
       "      <td>Trojan War</td>\n",
       "      <td>PG-13</td>\n",
       "      <td>Comedy</td>\n",
       "      <td>1997</td>\n",
       "      <td>October 1, 1997 (Brazil)</td>\n",
       "      <td>5.7</td>\n",
       "      <td>5800</td>\n",
       "      <td>George Huang</td>\n",
       "      <td>Andy Burg</td>\n",
       "      <td>Will Friedle</td>\n",
       "      <td>United States</td>\n",
       "      <td>15000000</td>\n",
       "      <td>309</td>\n",
       "      <td>Daybreak</td>\n",
       "      <td>85</td>\n",
       "    </tr>\n",
       "  </tbody>\n",
       "</table>\n",
       "<p>7668 rows × 15 columns</p>\n",
       "</div>"
      ],
      "text/plain": [
       "                                            name     rating   genre  year  \\\n",
       "5445                                      Avatar      PG-13  Action  2009   \n",
       "7445                           Avengers: Endgame      PG-13  Action  2019   \n",
       "3045                                     Titanic      PG-13   Drama  1997   \n",
       "6663  Star Wars: Episode VII - The Force Awakens      PG-13  Action  2015   \n",
       "7244                      Avengers: Infinity War      PG-13  Action  2018   \n",
       "...                                          ...        ...     ...   ...   \n",
       "3818                        Love, Honor and Obey          R  Comedy  2000   \n",
       "7625                            The Untold Story          R  Comedy  2019   \n",
       "7580                         Run with the Hunted  Not Rated   Crime  2019   \n",
       "2417                                    Madadayo          R   Drama  1993   \n",
       "3203                                  Trojan War      PG-13  Comedy  1997   \n",
       "\n",
       "                               released  score    votes         director  \\\n",
       "5445  December 18, 2009 (United States)    7.8  1100000    James Cameron   \n",
       "7445     April 26, 2019 (United States)    8.4   903000    Anthony Russo   \n",
       "3045  December 19, 1997 (United States)    7.8  1100000    James Cameron   \n",
       "6663  December 18, 2015 (United States)    7.8   876000      J.J. Abrams   \n",
       "7244     April 27, 2018 (United States)    8.4   897000    Anthony Russo   \n",
       "...                                 ...    ...      ...              ...   \n",
       "3818   February 9, 2001 (United States)    6.5     5200  Dominic Anciano   \n",
       "7625   January 11, 2019 (United States)    5.7      320    Shane Stanley   \n",
       "7580      June 26, 2020 (United States)    5.2      735        John Swab   \n",
       "2417             April 17, 1993 (Japan)    7.3     5100   Akira Kurosawa   \n",
       "3203           October 1, 1997 (Brazil)    5.7     5800     George Huang   \n",
       "\n",
       "                  writer               star         country     budget  \\\n",
       "5445       James Cameron    Sam Worthington   United States  237000000   \n",
       "7445  Christopher Markus  Robert Downey Jr.   United States  356000000   \n",
       "3045       James Cameron  Leonardo DiCaprio   United States  200000000   \n",
       "6663     Lawrence Kasdan       Daisy Ridley   United States  245000000   \n",
       "7244  Christopher Markus  Robert Downey Jr.   United States  321000000   \n",
       "...                  ...                ...             ...        ...   \n",
       "3818     Dominic Anciano        Sadie Frost  United Kingdom   20000000   \n",
       "7625         Lee Stanley        Miko Hughes   United States   20000000   \n",
       "7580           John Swab        Ron Perlman   United States   20000000   \n",
       "2417        Ishirô Honda   Tatsuo Matsumura           Japan   11900000   \n",
       "3203           Andy Burg       Will Friedle   United States   15000000   \n",
       "\n",
       "           gross                                 company  runtime  \n",
       "5445  2847246203                   Twentieth Century Fox      162  \n",
       "7445  2797501328                          Marvel Studios      181  \n",
       "3045  2201647264                   Twentieth Century Fox      194  \n",
       "6663  2069521700                               Lucasfilm      138  \n",
       "7244  2048359754                          Marvel Studios      149  \n",
       "...          ...                                     ...      ...  \n",
       "3818        1400  British Broadcasting Corporation (BBC)      103  \n",
       "7625         790               Visual Arts Entertainment      104  \n",
       "7580         682                           Roxwell Films       93  \n",
       "2417         596          DENTSU Music And Entertainment      134  \n",
       "3203         309                                Daybreak       85  \n",
       "\n",
       "[7668 rows x 15 columns]"
      ]
     },
     "execution_count": 8,
     "metadata": {},
     "output_type": "execute_result"
    }
   ],
   "source": [
    "# set the displaying rows to the maximum\n",
    "# pd.set_option('display.max_rows',None)\n",
    "\n",
    "# sort values\n",
    "data.sort_values(by=['gross'],inplace=False,ascending=False)"
   ]
  },
  {
   "cell_type": "code",
   "execution_count": 9,
   "id": "b2c2360d",
   "metadata": {},
   "outputs": [],
   "source": [
    "# find the repeating values\n",
    "\n",
    "# data['company'].sort_values(ascending=False)"
   ]
  },
  {
   "cell_type": "code",
   "execution_count": 10,
   "id": "143ebdde",
   "metadata": {},
   "outputs": [],
   "source": [
    "# remove if there are dupliacate values\n",
    "\n",
    "data=data.drop_duplicates()"
   ]
  },
  {
   "cell_type": "markdown",
   "id": "02057067",
   "metadata": {},
   "source": [
    "# Correlation"
   ]
  },
  {
   "cell_type": "markdown",
   "id": "7bc23ab8",
   "metadata": {},
   "source": [
    "### Budget vs Gross"
   ]
  },
  {
   "cell_type": "code",
   "execution_count": 11,
   "id": "59e3b5c2",
   "metadata": {},
   "outputs": [
    {
     "data": {
      "image/png": "[encoded data removed]",
      "text/plain": [
       "<Figure size 640x480 with 1 Axes>"
      ]
     },
     "metadata": {},
     "output_type": "display_data"
    }
   ],
   "source": [
    "plt.scatter(x=data['budget'],y=data['gross'])\n",
    "plt.title('Budget vs Gross Collection')\n",
    "plt.xlabel('Budget')\n",
    "plt.ylabel('Gross Collection')\n",
    "plt.show()"
   ]
  },
  {
   "cell_type": "code",
   "execution_count": 12,
   "id": "badbd02e",
   "metadata": {},
   "outputs": [
    {
     "data": {
      "text/plain": [
       "<Axes: xlabel='budget', ylabel='gross'>"
      ]
     },
     "execution_count": 12,
     "metadata": {},
     "output_type": "execute_result"
    },
    {
     "data": {
      "image/png": "[encoded data removed]",
      "text/plain": [
       "<Figure size 640x480 with 1 Axes>"
      ]
     },
     "metadata": {},
     "output_type": "display_data"
    }
   ],
   "source": [
    "sb.regplot(x='budget',y='gross',data=data,scatter_kws={'color':'red'},line_kws={'color':'blue'})\n"
   ]
  },
  {
   "cell_type": "code",
   "execution_count": 13,
   "id": "641e607b",
   "metadata": {},
   "outputs": [
    {
     "data": {
      "application/vnd.microsoft.datawrangler.viewer.v0+json": {
       "columns": [
        {
         "name": "index",
         "rawType": "object",
         "type": "string"
        },
        {
         "name": "year",
         "rawType": "float64",
         "type": "float"
        },
        {
         "name": "score",
         "rawType": "float64",
         "type": "float"
        },
        {
         "name": "votes",
         "rawType": "float64",
         "type": "float"
        },
        {
         "name": "budget",
         "rawType": "float64",
         "type": "float"
        },
        {
         "name": "gross",
         "rawType": "float64",
         "type": "float"
        },
        {
         "name": "runtime",
         "rawType": "float64",
         "type": "float"
        }
       ],
       "ref": "603e4ab2-32f4-44f6-8f88-8baab9f441e9",
       "rows": [
        [
         "year",
         "1.0",
         "0.09808358411764813",
         "0.2224848211424369",
         "0.2923596676805781",
         "0.26025094454130315",
         "0.12043129110775459"
        ],
        [
         "score",
         "0.09808358411764813",
         "1.0",
         "0.40912259172075416",
         "0.061775019984750795",
         "0.18579925967154692",
         "0.3995425044692235"
        ],
        [
         "votes",
         "0.2224848211424369",
         "0.40912259172075416",
         "1.0",
         "0.4620131757829521",
         "0.6323764000783006",
         "0.30914958500728434"
        ],
        [
         "budget",
         "0.2923596676805781",
         "0.061775019984750795",
         "0.4620131757829521",
         "1.0",
         "0.7466704372309355",
         "0.27350734826166395"
        ],
        [
         "gross",
         "0.26025094454130315",
         "0.18579925967154692",
         "0.6323764000783006",
         "0.7466704372309355",
         "1.0",
         "0.2447105319034362"
        ],
        [
         "runtime",
         "0.12043129110775459",
         "0.3995425044692235",
         "0.30914958500728434",
         "0.27350734826166395",
         "0.2447105319034362",
         "1.0"
        ]
       ],
       "shape": {
        "columns": 6,
        "rows": 6
       }
      },
      "text/html": [
       "<div>\n",
       "<style scoped>\n",
       "    .dataframe tbody tr th:only-of-type {\n",
       "        vertical-align: middle;\n",
       "    }\n",
       "\n",
       "    .dataframe tbody tr th {\n",
       "        vertical-align: top;\n",
       "    }\n",
       "\n",
       "    .dataframe thead th {\n",
       "        text-align: right;\n",
       "    }\n",
       "</style>\n",
       "<table border=\"1\" class=\"dataframe\">\n",
       "  <thead>\n",
       "    <tr style=\"text-align: right;\">\n",
       "      <th></th>\n",
       "      <th>year</th>\n",
       "      <th>score</th>\n",
       "      <th>votes</th>\n",
       "      <th>budget</th>\n",
       "      <th>gross</th>\n",
       "      <th>runtime</th>\n",
       "    </tr>\n",
       "  </thead>\n",
       "  <tbody>\n",
       "    <tr>\n",
       "      <th>year</th>\n",
       "      <td>1.000000</td>\n",
       "      <td>0.098084</td>\n",
       "      <td>0.222485</td>\n",
       "      <td>0.292360</td>\n",
       "      <td>0.260251</td>\n",
       "      <td>0.120431</td>\n",
       "    </tr>\n",
       "    <tr>\n",
       "      <th>score</th>\n",
       "      <td>0.098084</td>\n",
       "      <td>1.000000</td>\n",
       "      <td>0.409123</td>\n",
       "      <td>0.061775</td>\n",
       "      <td>0.185799</td>\n",
       "      <td>0.399543</td>\n",
       "    </tr>\n",
       "    <tr>\n",
       "      <th>votes</th>\n",
       "      <td>0.222485</td>\n",
       "      <td>0.409123</td>\n",
       "      <td>1.000000</td>\n",
       "      <td>0.462013</td>\n",
       "      <td>0.632376</td>\n",
       "      <td>0.309150</td>\n",
       "    </tr>\n",
       "    <tr>\n",
       "      <th>budget</th>\n",
       "      <td>0.292360</td>\n",
       "      <td>0.061775</td>\n",
       "      <td>0.462013</td>\n",
       "      <td>1.000000</td>\n",
       "      <td>0.746670</td>\n",
       "      <td>0.273507</td>\n",
       "    </tr>\n",
       "    <tr>\n",
       "      <th>gross</th>\n",
       "      <td>0.260251</td>\n",
       "      <td>0.185799</td>\n",
       "      <td>0.632376</td>\n",
       "      <td>0.746670</td>\n",
       "      <td>1.000000</td>\n",
       "      <td>0.244711</td>\n",
       "    </tr>\n",
       "    <tr>\n",
       "      <th>runtime</th>\n",
       "      <td>0.120431</td>\n",
       "      <td>0.399543</td>\n",
       "      <td>0.309150</td>\n",
       "      <td>0.273507</td>\n",
       "      <td>0.244711</td>\n",
       "      <td>1.000000</td>\n",
       "    </tr>\n",
       "  </tbody>\n",
       "</table>\n",
       "</div>"
      ],
      "text/plain": [
       "             year     score     votes    budget     gross   runtime\n",
       "year     1.000000  0.098084  0.222485  0.292360  0.260251  0.120431\n",
       "score    0.098084  1.000000  0.409123  0.061775  0.185799  0.399543\n",
       "votes    0.222485  0.409123  1.000000  0.462013  0.632376  0.309150\n",
       "budget   0.292360  0.061775  0.462013  1.000000  0.746670  0.273507\n",
       "gross    0.260251  0.185799  0.632376  0.746670  1.000000  0.244711\n",
       "runtime  0.120431  0.399543  0.309150  0.273507  0.244711  1.000000"
      ]
     },
     "execution_count": 13,
     "metadata": {},
     "output_type": "execute_result"
    }
   ],
   "source": [
    "# correlation\n",
    "# using method - pearson, kendall, spearman\n",
    "\n",
    "data.corr(numeric_only=True,method='pearson')"
   ]
  },
  {
   "cell_type": "code",
   "execution_count": 14,
   "id": "6ae70afa",
   "metadata": {},
   "outputs": [
    {
     "data": {
      "image/png": "[encoded data removed]",
      "text/plain": [
       "<Figure size 640x480 with 2 Axes>"
      ]
     },
     "metadata": {},
     "output_type": "display_data"
    }
   ],
   "source": [
    "# visualizing the correlation matrix\n",
    "\n",
    "corr_matrix=data.corr(numeric_only=True,method='pearson')\n",
    "sb.heatmap(corr_matrix,annot=True)\n",
    "plt.title('Correlation Matrix for Numeric Values')\n",
    "plt.show()"
   ]
  },
  {
   "cell_type": "code",
   "execution_count": 15,
   "id": "c6a35ddc",
   "metadata": {},
   "outputs": [],
   "source": [
    "# numerizing every columns which are not numeric\n",
    "\n",
    "data_numerized=data.copy()\n",
    "\n",
    "for col in data_numerized.columns:\n",
    "    if (data_numerized[col].dtype=='object'):\n",
    "        data_numerized[col]=data_numerized[col].astype('category')\n",
    "        data_numerized[col]=data_numerized[col].cat.codes\n",
    "        \n"
   ]
  },
  {
   "cell_type": "code",
   "execution_count": 16,
   "id": "f389b786",
   "metadata": {},
   "outputs": [
    {
     "data": {
      "image/png": "[encoded data removed]",
      "text/plain": [
       "<Figure size 1500x1500 with 2 Axes>"
      ]
     },
     "metadata": {},
     "output_type": "display_data"
    }
   ],
   "source": [
    "# creating a heatmap of the entire table\n",
    "\n",
    "corr_matrix=data_numerized.corr(numeric_only=True,method='pearson')\n",
    "plt.figure(figsize=(15,15))\n",
    "sb.heatmap(corr_matrix,annot=True)\n",
    "plt.title('Correlation Matrix for Numeric Values')\n",
    "plt.show()"
   ]
  },
  {
   "cell_type": "code",
   "execution_count": 17,
   "id": "322e1415",
   "metadata": {},
   "outputs": [
    {
     "data": {
      "application/vnd.microsoft.datawrangler.viewer.v0+json": {
       "columns": [
        {
         "name": "(None, None)",
         "rawType": "object",
         "type": "unknown"
        },
        {
         "name": "0",
         "rawType": "float64",
         "type": "float"
        }
       ],
       "ref": "6b69dfd5-102c-4430-a6bd-3a4939769c92",
       "rows": [
        [
         "('name', 'name')",
         "1.0"
        ],
        [
         "('name', 'rating')",
         "-0.012441469068283308"
        ],
        [
         "('name', 'genre')",
         "0.016354900109016808"
        ],
        [
         "('name', 'year')",
         "0.011452824170602609"
        ],
        [
         "('name', 'released')",
         "-0.010480125842612079"
        ],
        [
         "('name', 'score')",
         "0.01711412591629086"
        ],
        [
         "('name', 'votes')",
         "0.013045426693196806"
        ],
        [
         "('name', 'director')",
         "0.009079291510615315"
        ],
        [
         "('name', 'writer')",
         "0.009984970473939656"
        ],
        [
         "('name', 'star')",
         "0.006844018950630655"
        ],
        [
         "('name', 'country')",
         "-0.010424770654009832"
        ],
        [
         "('name', 'budget')",
         "0.02092649438826477"
        ],
        [
         "('name', 'gross')",
         "0.006720918583910778"
        ],
        [
         "('name', 'company')",
         "0.010372511329868678"
        ],
        [
         "('name', 'runtime')",
         "0.0102141813279984"
        ],
        [
         "('rating', 'name')",
         "-0.012441469068283308"
        ],
        [
         "('rating', 'rating')",
         "1.0"
        ],
        [
         "('rating', 'genre')",
         "0.12346536635834861"
        ],
        [
         "('rating', 'year')",
         "0.027931350991387834"
        ],
        [
         "('rating', 'released')",
         "0.02408573843095306"
        ],
        [
         "('rating', 'score')",
         "0.013304040065323656"
        ],
        [
         "('rating', 'votes')",
         "0.012252943939660582"
        ],
        [
         "('rating', 'director')",
         "0.016254776629732674"
        ],
        [
         "('rating', 'writer')",
         "-0.0028779789830034176"
        ],
        [
         "('rating', 'star')",
         "0.005387137766559084"
        ],
        [
         "('rating', 'country')",
         "0.02693037205043596"
        ],
        [
         "('rating', 'budget')",
         "-0.1481922792197652"
        ],
        [
         "('rating', 'gross')",
         "-0.13049624001527438"
        ],
        [
         "('rating', 'company')",
         "-0.07966020742863368"
        ],
        [
         "('rating', 'runtime')",
         "0.06649904710486301"
        ],
        [
         "('genre', 'name')",
         "0.016354900109016808"
        ],
        [
         "('genre', 'rating')",
         "0.12346536635834861"
        ],
        [
         "('genre', 'genre')",
         "1.0"
        ],
        [
         "('genre', 'year')",
         "-0.08126066699520872"
        ],
        [
         "('genre', 'released')",
         "0.030428584844556527"
        ],
        [
         "('genre', 'score')",
         "0.027969894990785307"
        ],
        [
         "('genre', 'votes')",
         "-0.14529434923767295"
        ],
        [
         "('genre', 'director')",
         "-0.015257519861515845"
        ],
        [
         "('genre', 'writer')",
         "0.006746974024526511"
        ],
        [
         "('genre', 'star')",
         "-0.004641030539101405"
        ],
        [
         "('genre', 'country')",
         "-0.03589551343701978"
        ],
        [
         "('genre', 'budget')",
         "-0.32886498997498054"
        ],
        [
         "('genre', 'gross')",
         "-0.23367422568117738"
        ],
        [
         "('genre', 'company')",
         "-0.07003165011928741"
        ],
        [
         "('genre', 'runtime')",
         "-0.05275921515444655"
        ],
        [
         "('year', 'name')",
         "0.011452824170602609"
        ],
        [
         "('year', 'rating')",
         "0.027931350991387834"
        ],
        [
         "('year', 'genre')",
         "-0.08126066699520872"
        ],
        [
         "('year', 'year')",
         "1.0"
        ],
        [
         "('year', 'released')",
         "7.659660770136797e-05"
        ]
       ],
       "shape": {
        "columns": 1,
        "rows": 225
       }
      },
      "text/plain": [
       "name     name        1.000000\n",
       "         rating     -0.012441\n",
       "         genre       0.016355\n",
       "         year        0.011453\n",
       "         released   -0.010480\n",
       "                       ...   \n",
       "runtime  country    -0.079385\n",
       "         budget      0.273507\n",
       "         gross       0.244711\n",
       "         company     0.030916\n",
       "         runtime     1.000000\n",
       "Length: 225, dtype: float64"
      ]
     },
     "execution_count": 17,
     "metadata": {},
     "output_type": "execute_result"
    }
   ],
   "source": [
    "# unstack correlation matrix\n",
    "\n",
    "corr_values=data_numerized.corr()\n",
    "values=corr_values.unstack()\n",
    "values"
   ]
  },
  {
   "cell_type": "code",
   "execution_count": 18,
   "id": "22e29462",
   "metadata": {},
   "outputs": [
    {
     "data": {
      "application/vnd.microsoft.datawrangler.viewer.v0+json": {
       "columns": [
        {
         "name": "(None, None)",
         "rawType": "object",
         "type": "unknown"
        },
        {
         "name": "0",
         "rawType": "float64",
         "type": "float"
        }
       ],
       "ref": "25ee7e8f-61a4-46dc-84dc-7f566f989cdc",
       "rows": [
        [
         "('genre', 'budget')",
         "-0.32886498997498054"
        ],
        [
         "('budget', 'genre')",
         "-0.32886498997498054"
        ],
        [
         "('gross', 'genre')",
         "-0.23367422568117738"
        ],
        [
         "('genre', 'gross')",
         "-0.23367422568117738"
        ],
        [
         "('rating', 'budget')",
         "-0.1481922792197652"
        ],
        [
         "('budget', 'rating')",
         "-0.1481922792197652"
        ],
        [
         "('votes', 'genre')",
         "-0.14529434923767295"
        ],
        [
         "('genre', 'votes')",
         "-0.14529434923767295"
        ],
        [
         "('country', 'score')",
         "-0.1345384113293785"
        ],
        [
         "('score', 'country')",
         "-0.1345384113293785"
        ],
        [
         "('rating', 'gross')",
         "-0.13049624001527438"
        ],
        [
         "('gross', 'rating')",
         "-0.13049624001527438"
        ],
        [
         "('year', 'genre')",
         "-0.08126066699520872"
        ],
        [
         "('genre', 'year')",
         "-0.08126066699520872"
        ],
        [
         "('company', 'rating')",
         "-0.07966020742863368"
        ],
        [
         "('rating', 'company')",
         "-0.07966020742863368"
        ],
        [
         "('country', 'runtime')",
         "-0.07938532655033699"
        ],
        [
         "('runtime', 'country')",
         "-0.07938532655033699"
        ],
        [
         "('genre', 'company')",
         "-0.07003165011928741"
        ],
        [
         "('company', 'genre')",
         "-0.07003165011928741"
        ],
        [
         "('country', 'year')",
         "-0.06942281093084146"
        ],
        [
         "('year', 'country')",
         "-0.06942281093084146"
        ],
        [
         "('genre', 'runtime')",
         "-0.05275921515444655"
        ],
        [
         "('runtime', 'genre')",
         "-0.05275921515444655"
        ],
        [
         "('country', 'genre')",
         "-0.03589551343701978"
        ],
        [
         "('genre', 'country')",
         "-0.03589551343701978"
        ],
        [
         "('writer', 'budget')",
         "-0.03095156110924422"
        ],
        [
         "('budget', 'writer')",
         "-0.03095156110924422"
        ],
        [
         "('year', 'star')",
         "-0.02791240298878272"
        ],
        [
         "('star', 'year')",
         "-0.02791240298878272"
        ],
        [
         "('gross', 'writer')",
         "-0.02301316855425647"
        ],
        [
         "('writer', 'gross')",
         "-0.02301316855425647"
        ],
        [
         "('country', 'released')",
         "-0.021749880060379822"
        ],
        [
         "('released', 'country')",
         "-0.021749880060379822"
        ],
        [
         "('director', 'year')",
         "-0.020795128891209946"
        ],
        [
         "('year', 'director')",
         "-0.020795128891209946"
        ],
        [
         "('votes', 'star')",
         "-0.01939907913021383"
        ],
        [
         "('star', 'votes')",
         "-0.01939907913021383"
        ],
        [
         "('star', 'budget')",
         "-0.018950732425854936"
        ],
        [
         "('budget', 'star')",
         "-0.018950732425854936"
        ],
        [
         "('genre', 'director')",
         "-0.015257519861515845"
        ],
        [
         "('director', 'genre')",
         "-0.015257519861515845"
        ],
        [
         "('star', 'country')",
         "-0.015072093228864448"
        ],
        [
         "('country', 'star')",
         "-0.015072093228864448"
        ],
        [
         "('gross', 'director')",
         "-0.014807542680199313"
        ],
        [
         "('director', 'gross')",
         "-0.014807542680199313"
        ],
        [
         "('rating', 'name')",
         "-0.012441469068283308"
        ],
        [
         "('name', 'rating')",
         "-0.012441469068283308"
        ],
        [
         "('year', 'company')",
         "-0.011425036853059055"
        ],
        [
         "('company', 'year')",
         "-0.011425036853059055"
        ]
       ],
       "shape": {
        "columns": 1,
        "rows": 225
       }
      },
      "text/plain": [
       "genre    budget    -0.328865\n",
       "budget   genre     -0.328865\n",
       "gross    genre     -0.233674\n",
       "genre    gross     -0.233674\n",
       "rating   budget    -0.148192\n",
       "                      ...   \n",
       "budget   budget     1.000000\n",
       "country  country    1.000000\n",
       "gross    gross      1.000000\n",
       "company  company    1.000000\n",
       "runtime  runtime    1.000000\n",
       "Length: 225, dtype: float64"
      ]
     },
     "execution_count": 18,
     "metadata": {},
     "output_type": "execute_result"
    }
   ],
   "source": [
    "sorted_values=values.sort_values()\n",
    "sorted_values"
   ]
  },
  {
   "cell_type": "code",
   "execution_count": 19,
   "id": "605f6bec",
   "metadata": {},
   "outputs": [
    {
     "data": {
      "application/vnd.microsoft.datawrangler.viewer.v0+json": {
       "columns": [
        {
         "name": "(None, None)",
         "rawType": "object",
         "type": "unknown"
        },
        {
         "name": "0",
         "rawType": "float64",
         "type": "float"
        }
       ],
       "ref": "74f90b0f-5509-46c4-9e49-7a2aefc6539e",
       "rows": [
        [
         "('votes', 'gross')",
         "0.6323764000783006"
        ],
        [
         "('gross', 'votes')",
         "0.6323764000783006"
        ],
        [
         "('budget', 'gross')",
         "0.7466704372309355"
        ],
        [
         "('gross', 'budget')",
         "0.7466704372309355"
        ],
        [
         "('released', 'released')",
         "1.0"
        ],
        [
         "('score', 'score')",
         "1.0"
        ],
        [
         "('rating', 'rating')",
         "1.0"
        ],
        [
         "('name', 'name')",
         "1.0"
        ],
        [
         "('genre', 'genre')",
         "1.0"
        ],
        [
         "('year', 'year')",
         "1.0"
        ],
        [
         "('director', 'director')",
         "1.0"
        ],
        [
         "('votes', 'votes')",
         "1.0"
        ],
        [
         "('writer', 'writer')",
         "1.0"
        ],
        [
         "('star', 'star')",
         "1.0"
        ],
        [
         "('budget', 'budget')",
         "1.0"
        ],
        [
         "('country', 'country')",
         "1.0"
        ],
        [
         "('gross', 'gross')",
         "1.0"
        ],
        [
         "('company', 'company')",
         "1.0"
        ],
        [
         "('runtime', 'runtime')",
         "1.0"
        ]
       ],
       "shape": {
        "columns": 1,
        "rows": 19
       }
      },
      "text/plain": [
       "votes     gross       0.632376\n",
       "gross     votes       0.632376\n",
       "budget    gross       0.746670\n",
       "gross     budget      0.746670\n",
       "released  released    1.000000\n",
       "score     score       1.000000\n",
       "rating    rating      1.000000\n",
       "name      name        1.000000\n",
       "genre     genre       1.000000\n",
       "year      year        1.000000\n",
       "director  director    1.000000\n",
       "votes     votes       1.000000\n",
       "writer    writer      1.000000\n",
       "star      star        1.000000\n",
       "budget    budget      1.000000\n",
       "country   country     1.000000\n",
       "gross     gross       1.000000\n",
       "company   company     1.000000\n",
       "runtime   runtime     1.000000\n",
       "dtype: float64"
      ]
     },
     "execution_count": 19,
     "metadata": {},
     "output_type": "execute_result"
    }
   ],
   "source": [
    "# pairs with high correlation\n",
    "\n",
    "high_corr=sorted_values[(sorted_values)>0.5]\n",
    "high_corr"
   ]
  },
  {
   "cell_type": "code",
   "execution_count": 20,
   "id": "7cf777a9",
   "metadata": {},
   "outputs": [],
   "source": [
    "# 'budget' and 'votes' have the highest correlatin to 'gross'"
   ]
  }
 ],
 "metadata": {
  "kernelspec": {
   "display_name": "Python 3",
   "language": "python",
   "name": "python3"
  },
  "language_info": {
   "codemirror_mode": {
    "name": "ipython",
    "version": 3
   },
   "file_extension": ".py",
   "mimetype": "text/x-python",
   "name": "python",
   "nbconvert_exporter": "python",
   "pygments_lexer": "ipython3",
   "version": "3.13.5"
  }
 },
 "nbformat": 4,
 "nbformat_minor": 5
}
